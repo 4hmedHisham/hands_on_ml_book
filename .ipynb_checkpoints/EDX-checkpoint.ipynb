{
 "cells": [
  {
   "cell_type": "code",
   "execution_count": 2,
   "id": "exact-medication",
   "metadata": {},
   "outputs": [
    {
     "name": "stdout",
     "output_type": "stream",
     "text": [
      "Writing csv_mindex.csv\n"
     ]
    }
   ],
   "source": [
    "%%file csv_mindex.csv\n",
    "key1,key2,value1,value2\n",
    "one, a, 1, 2 \n",
    "one, b, 3, 4\n",
    "one, c, 5, 6 \n",
    "one, d, 7, 8 \n",
    "two, a, 9, 10  \n",
    "two, b, 11, 12  \n",
    "two, c, 13, 14 \n",
    "two, d, 15, 17"
   ]
  },
  {
   "cell_type": "code",
   "execution_count": null,
   "id": "french-palestinian",
   "metadata": {},
   "outputs": [],
   "source": [
    "import pandas as pd"
   ]
  }
 ],
 "metadata": {
  "kernelspec": {
   "display_name": "Python 3",
   "language": "python",
   "name": "python3"
  },
  "language_info": {
   "codemirror_mode": {
    "name": "ipython",
    "version": 3
   },
   "file_extension": ".py",
   "mimetype": "text/x-python",
   "name": "python",
   "nbconvert_exporter": "python",
   "pygments_lexer": "ipython3",
   "version": "3.9.1"
  }
 },
 "nbformat": 4,
 "nbformat_minor": 5
}
